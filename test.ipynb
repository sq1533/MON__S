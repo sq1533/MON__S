{
 "cells": [
  {
   "cell_type": "code",
   "execution_count": 1,
   "id": "fe7730b7-e99b-4553-862c-56a4ea5c5001",
   "metadata": {},
   "outputs": [
    {
     "ename": "ModuleNotFoundError",
     "evalue": "No module named 'Pandas'",
     "output_type": "error",
     "traceback": [
      "\u001b[1;31m---------------------------------------------------------------------------\u001b[0m",
      "\u001b[1;31mModuleNotFoundError\u001b[0m                       Traceback (most recent call last)",
      "Cell \u001b[1;32mIn[1], line 2\u001b[0m\n\u001b[0;32m      1\u001b[0m \u001b[38;5;28;01mimport\u001b[39;00m \u001b[38;5;21;01mtime\u001b[39;00m\n\u001b[1;32m----> 2\u001b[0m \u001b[38;5;28;01mimport\u001b[39;00m \u001b[38;5;21;01mPandas\u001b[39;00m \u001b[38;5;28;01mas\u001b[39;00m \u001b[38;5;21;01mpd\u001b[39;00m\n\u001b[0;32m      3\u001b[0m \u001b[38;5;28;01mfrom\u001b[39;00m \u001b[38;5;21;01mselenium\u001b[39;00m \u001b[38;5;28;01mimport\u001b[39;00m webdriver\n\u001b[0;32m      4\u001b[0m \u001b[38;5;28;01mfrom\u001b[39;00m \u001b[38;5;21;01mselenium\u001b[39;00m\u001b[38;5;21;01m.\u001b[39;00m\u001b[38;5;21;01mwebdriver\u001b[39;00m \u001b[38;5;28;01mimport\u001b[39;00m ActionChains\n",
      "\u001b[1;31mModuleNotFoundError\u001b[0m: No module named 'Pandas'"
     ]
    }
   ],
   "source": [
    "import time\n",
    "import pandas as pd\n",
    "from selenium import webdriver\n",
    "from selenium.webdriver import ActionChains\n",
    "from selenium.webdriver.common.by import By\n",
    "from bs4 import BeautifulSoup\n",
    "import sqlite3\n",
    "\n",
    "conn = sqlite3.connect(\"C:\\\\Users\\\\USER\\\\Project.MOS\\\\ALAM.db\", isolation_level=None)\n",
    "c = conn.cursor()\n",
    "c.execute(\"CREATE TABLE IF NOT EXISTS Alam(alam text, MID text)\")\n",
    "c.execute(\"CREATE TABLE IF NOT EXISTS Info(MID text, info text)\")\n",
    "Info = c.fetchall('Info')\n",
    "\n",
    "Options = webdriver.ChromeOptions()\n",
    "Options.add_argument('--blink-settings=imagesEnabled=false')\n",
    "\n",
    "driver = webdriver.Chrome('C:\\\\Users\\\\USER\\\\chromedriver.exe',options = Options)\n",
    "url = \"https://talk.worksmobile.com/#/\"\n",
    "driver.get(url)\n",
    "driver.implicitly_wait(1)\n",
    "\n",
    "def login():\n",
    "    id_box = driver.find_element_by_css_selector('#login_param')\n",
    "    login_button_1 = driver.find_element_by_css_selector('#loginStart')\n",
    "    act = ActionChains(driver)\n",
    "    print(\"아이디를 입력하세요.\")\n",
    "    id = input(\"ID: \")    #아이디 입력받기\n",
    "    act.send_keys_to_element(id_box, '{}'.format(id)).click(login_button_1).perform()\n",
    "    time.sleep(1)\n",
    "    \n",
    "    password_box = driver.find_element_by_css_selector('#password')\n",
    "    login_button_2 = driver.find_element_by_css_selector('#loginBtn')\n",
    "    act = ActionChains(driver)\n",
    "    print(\"비밀번호를 입력하세요.\")\n",
    "    password = input(\"PASSWORD: \")\n",
    "    act.send_keys_to_element(password_box, '{}'.format(password)).click(login_button_2).perform()\n",
    "    time.sleep(1)\n",
    "    \n",
    "    SMS = driver.find_element_by_css_selector('#phoneNumberButton')\n",
    "    act = ActionChains(driver)\n",
    "    act.click(SMS).perform()\n",
    "    time.sleep(1)\n",
    "    \n",
    "    SMS_box = driver.find_element_by_css_selector('#checkNumber > input._authNo._authNo1')\n",
    "    act = ActionChains(driver)\n",
    "    print(\"인증번호를 입력하세요.\")\n",
    "    SMS_ID = input(\"SMS: \")\n",
    "    act.send_keys_to_element(SMS_box, '{}'.format(SMS_ID)).perform()\n",
    "    time.sleep(1)\n",
    "\n",
    "login()\n",
    "\n",
    "html = driver.page_source\n",
    "soup = BeautifulSoup(html,'html.parser')"
   ]
  },
  {
   "cell_type": "code",
   "execution_count": 120,
   "id": "b68c52c0-ccad-4ca5-9658-8a1241c63f30",
   "metadata": {
    "tags": []
   },
   "outputs": [
    {
     "ename": "ModuleNotFoundError",
     "evalue": "No module named 'pandas'",
     "output_type": "error",
     "traceback": [
      "\u001b[1;31m---------------------------------------------------------------------------\u001b[0m",
      "\u001b[1;31mModuleNotFoundError\u001b[0m                       Traceback (most recent call last)",
      "Cell \u001b[1;32mIn[120], line 57\u001b[0m\n\u001b[0;32m     54\u001b[0m     aa \u001b[38;5;241m=\u001b[39m pd\u001b[38;5;241m.\u001b[39mDataFrame\u001b[38;5;241m.\u001b[39mfrom_records(data\u001b[38;5;241m=\u001b[39mdf, columns\u001b[38;5;241m=\u001b[39mcols)\n\u001b[0;32m     55\u001b[0m     \u001b[38;5;28;01mreturn\u001b[39;00m aa\n\u001b[1;32m---> 57\u001b[0m \u001b[43malamcheck\u001b[49m\u001b[43m(\u001b[49m\u001b[43m)\u001b[49m\n",
      "Cell \u001b[1;32mIn[120], line 50\u001b[0m, in \u001b[0;36malamcheck\u001b[1;34m()\u001b[0m\n\u001b[0;32m     48\u001b[0m \u001b[38;5;28;01melse\u001b[39;00m:\n\u001b[0;32m     49\u001b[0m     \u001b[38;5;28;01mpass\u001b[39;00m\n\u001b[1;32m---> 50\u001b[0m \u001b[38;5;28;01mimport\u001b[39;00m \u001b[38;5;21;01mpandas\u001b[39;00m \u001b[38;5;28;01mas\u001b[39;00m \u001b[38;5;21;01mpd\u001b[39;00m\n\u001b[0;32m     51\u001b[0m df \u001b[38;5;241m=\u001b[39m c\u001b[38;5;241m.\u001b[39mexecute(\u001b[38;5;124m\"\u001b[39m\u001b[38;5;124mSELECT * FROM Alam ORDER BY ROWID DESC LIMIT 10\u001b[39m\u001b[38;5;124m\"\u001b[39m)\n\u001b[0;32m     52\u001b[0m df \u001b[38;5;241m=\u001b[39m c\u001b[38;5;241m.\u001b[39mfetchall()\n",
      "\u001b[1;31mModuleNotFoundError\u001b[0m: No module named 'pandas'"
     ]
    }
   ],
   "source": [
    "def alamcheck():\n",
    "    html = driver.page_source\n",
    "    soup = BeautifulSoup(html,'html.parser')\n",
    "    c_room = soup.find(string=['<AI_MON:거래감소>','<AI_MON:거래급증>','<AI_MON:성공율하락>','<AI_MON:VAN>','<AI_MON:PG>','<AI_MON:Error>','[VAN] 가상계좌','[VAN] 펌뱅킹'])\n",
    "    c_li_room = c_room.find_parent('li')\n",
    "    check = c_li_room.find(class_='new')\n",
    "    if check:\n",
    "        for i in check:\n",
    "            if reversed(i):\n",
    "                A = soup.find(string=['<AI_MON:거래감소>','<AI_MON:거래급증>','<AI_MON:성공율하락>','<AI_MON:VAN>','<AI_MON:PG>','<AI_MON:Error>','[VAN] 가상계좌'])\n",
    "                A_li = A.find_parent('li')\n",
    "                A_N = A_li.find(class_='new')\n",
    "                A_new = A_N.find_parent('li')\n",
    "                A_alam = A_new.find('dd').get_text()\n",
    "                if '●' in A_alam:\n",
    "                    MID_1 = A_alam.split('가맹점:')\n",
    "                    MID_2 = MID_1[1].split('[',1)\n",
    "                    MID_3 = MID_2[1].split(']',1)\n",
    "                    MID = MID_3[0]\n",
    "                    c.execute(\"INSERT INTO Alam(alam, MID) VALUES(?,?)\",(A_alam,MID))\n",
    "                elif '◎' not in A_alam:\n",
    "                    if 'autocancel' in A_alam:\n",
    "                        c.execute(\"INSERT INTO Alam(alam, MID) VALUES(?,?)\",(A_alam,'autocancel'))\n",
    "                    else:\n",
    "                        A_1 = A_alam.replace('(주)','')\n",
    "                        A_code_1 = A_1.split('(',1)\n",
    "                        A_code_2 = A_code_1[1].split(')',1)\n",
    "                        A_code = A_code_2[0]\n",
    "                        c.execute(\"INSERT INTO Alam(alam, MID) VALUES(?,?)\",(A_alam,A_code))\n",
    "\n",
    "                B = soup.find(string=['<AI_MON:거래감소>','<AI_MON:거래급증>','<AI_MON:성공율하락>','<AI_MON:VAN>','<AI_MON:PG>','<AI_MON:Error>','[VAN] 펌뱅킹'])\n",
    "                B_li = B.find_parent('li')\n",
    "                B_N = B_li.find(class_='new')\n",
    "                B_new = B_N.find_parent('li')\n",
    "                B_alam = B_new.find('dd').get_text()\n",
    "                if '●' in B_alam:\n",
    "                    pass\n",
    "                elif '◎' not in B_alam:\n",
    "                    c.execute(\"INSERT INTO Alam(alam, MID) VALUES(?,?)\",(B_alam,''))\n",
    "            else:\n",
    "                pass\n",
    "            new_alam = driver.find_element(By.CLASS_NAME,'chat_list').find_element(By.CLASS_NAME,'new')\n",
    "            new_alam.click()\n",
    "            out = driver.find_element(By.CLASS_NAME,'item_chat')\n",
    "            out.click()\n",
    "            driver.get(driver.current_url)\n",
    "            time.sleep(1)\n",
    "    else:\n",
    "        pass\n",
    "    c.execute(\"SELECT * FROM Alam ORDER BY ROWID DESC LIMIT 10\")\n",
    "    df = c.fetchall()\n",
    "    cols = [column[0] for column in c.description]\n",
    "    Alam_df = pd.DataFrame.from_records(data=df, columns=cols)\n",
    "    return Alam_df\n",
    "\n",
    "alamcheck()"
   ]
  },
  {
   "cell_type": "code",
   "execution_count": 116,
   "id": "1006b4eb-e836-4cbb-a389-600ed95f9200",
   "metadata": {},
   "outputs": [
    {
     "ename": "OperationalError",
     "evalue": "near \"FROM\": syntax error",
     "output_type": "error",
     "traceback": [
      "\u001b[1;31m---------------------------------------------------------------------------\u001b[0m",
      "\u001b[1;31mOperationalError\u001b[0m                          Traceback (most recent call last)",
      "Cell \u001b[1;32mIn[116], line 1\u001b[0m\n\u001b[1;32m----> 1\u001b[0m \u001b[43mc\u001b[49m\u001b[38;5;241;43m.\u001b[39;49m\u001b[43mexecute\u001b[49m\u001b[43m(\u001b[49m\u001b[38;5;124;43m'''\u001b[39;49m\n\u001b[0;32m      2\u001b[0m \u001b[38;5;124;43m    SELECT * FROM Alam WHERE MID IN (SELECT MID FROM Info)\u001b[39;49m\n\u001b[0;32m      3\u001b[0m \u001b[38;5;124;43m        * FROM Alam ORDER BY ROWID DESC LIMIT 10\u001b[39;49m\n\u001b[0;32m      4\u001b[0m \u001b[38;5;124;43m'''\u001b[39;49m\u001b[43m)\u001b[49m\n\u001b[0;32m      5\u001b[0m c\u001b[38;5;241m.\u001b[39mexecute(\u001b[38;5;124m\"\u001b[39m\u001b[38;5;124mSELECT * FROM Info WHERE MID IN (SELECT MID FROM Alam ORDER BY ROWID DESC LIMIT 10)\u001b[39m\u001b[38;5;124m\"\u001b[39m)\n\u001b[0;32m      6\u001b[0m c\u001b[38;5;241m.\u001b[39mexecute(\u001b[38;5;124m\"\u001b[39m\u001b[38;5;124mSELECT * FROM Alam ORDER BY ROWID DESC LIMIT 10 WHERE MID NOT IN (SELECT MID FROM Info)\u001b[39m\u001b[38;5;124m\"\u001b[39m)\n",
      "\u001b[1;31mOperationalError\u001b[0m: near \"FROM\": syntax error"
     ]
    }
   ],
   "source": [
    "c.execute('''\n",
    "    SELECT * FROM Alam WHERE MID IN (SELECT MID FROM Info)\n",
    "        * FROM Alam ORDER BY ROWID DESC LIMIT 10\n",
    "''')\n",
    "c.execute(\"SELECT * FROM Info WHERE MID IN (SELECT MID FROM Alam ORDER BY ROWID DESC LIMIT 10)\")\n",
    "c.execute(\"SELECT * FROM Alam ORDER BY ROWID DESC LIMIT 10 WHERE MID NOT IN (SELECT MID FROM Info)\")"
   ]
  }
 ],
 "metadata": {
  "kernelspec": {
   "display_name": "Python 3 (ipykernel)",
   "language": "python",
   "name": "python3"
  },
  "language_info": {
   "codemirror_mode": {
    "name": "ipython",
    "version": 3
   },
   "file_extension": ".py",
   "mimetype": "text/x-python",
   "name": "python",
   "nbconvert_exporter": "python",
   "pygments_lexer": "ipython3",
   "version": "3.10.9"
  }
 },
 "nbformat": 4,
 "nbformat_minor": 5
}
